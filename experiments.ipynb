{
 "cells": [
  {
   "cell_type": "code",
   "execution_count": 1,
   "metadata": {},
   "outputs": [],
   "source": [
    "import numpy as np\n",
    "from sklearn.datasets import make_classification\n",
    "from sklearn.model_selection import train_test_split\n",
    "from sklearn.linear_model import Perceptron as SklearnPerceptron\n",
    "from sklearn.metrics import accuracy_score, mean_squared_error\n",
    "from sklearn.datasets import load_digits"
   ]
  },
  {
   "cell_type": "code",
   "execution_count": 2,
   "metadata": {},
   "outputs": [],
   "source": [
    "class Perceptron:\n",
    "    def __init__(self, alpha, epochs):\n",
    "        self.learning_rate = alpha\n",
    "        self.n_iterations = epochs\n",
    "        self.weights = None\n",
    "        self.bias = None\n",
    "\n",
    "    # Step function.\n",
    "    def activation_function(self, input):\n",
    "        return np.where(input > 0, 1, 0)\n",
    "\n",
    "    def fit(self, features, targets):\n",
    "        # Initialize weights and bias with random values uniformally distributed.\n",
    "        n_features = features.shape[1]\n",
    "        self.weights = np.random.uniform(size=n_features, low=-0.5, high=0.5)\n",
    "        self.bias = np.random.uniform(low=-0.5, high=0.5)\n",
    "\n",
    "        # for each epoch, iterate over all samples.\n",
    "        for _ in range(self.n_iterations):\n",
    "            for X_i, X in enumerate(features):\n",
    "                # compute the input of the activation function that will be used to calculate the error.\n",
    "                y_predicted = self.activation_function(np.dot(X, self.weights) + self.bias)\n",
    "                # update weights and bias: w_ij(next) = w_ij + alpha * (y_i — y_hat) * x_i + bias\n",
    "                self._update_weights(X, targets[X_i], y_predicted)\n",
    "\n",
    "    def _update_weights(self, X, y, y_predicted):\n",
    "        # compute the error and update the weights and bias.\n",
    "        error = y - y_predicted\n",
    "        weight_adj = self.learning_rate * error\n",
    "        self.weights = self.weights + weight_adj * X\n",
    "        self.bias = self.bias + weight_adj\n",
    "\n",
    "    def predict(self, X):\n",
    "        y_predicted = self.activation_function(np.dot(X, self.weights) + self.bias) # type: ignore\n",
    "        return y_predicted"
   ]
  },
  {
   "cell_type": "markdown",
   "metadata": {},
   "source": [
    "Now we've implemented an example through make_classification to test the implementation."
   ]
  },
  {
   "cell_type": "code",
   "execution_count": 6,
   "metadata": {},
   "outputs": [
    {
     "name": "stdout",
     "output_type": "stream",
     "text": [
      "Custom Perceptron Accuracy: 0.88, MSE: 0.12\n",
      "Sklearn Perceptron Accuracy: 0.905, MSE: 0.095\n"
     ]
    }
   ],
   "source": [
    "X, y = make_classification(n_samples=1000, n_features=20, n_informative=3, n_redundant=10, n_classes=2, random_state=42)\n",
    "X_train, X_test, y_train, y_test = train_test_split(X, y, test_size=0.2, random_state=42)\n",
    "\n",
    "perceptron = Perceptron(alpha=0.01, epochs=1000)\n",
    "perceptron.fit(X_train, y_train)\n",
    "\n",
    "y_pred = perceptron.predict(X_test)\n",
    "\n",
    "sklearn_perceptron = SklearnPerceptron()\n",
    "sklearn_perceptron.fit(X_train, y_train)\n",
    "\n",
    "y_pred_sklearn = sklearn_perceptron.predict(X_test)\n",
    "\n",
    "accuracy_custom = accuracy_score(y_test, y_pred)\n",
    "mse_custom = mean_squared_error(y_test, y_pred)\n",
    "\n",
    "accuracy_sklearn = accuracy_score(y_test, y_pred_sklearn)\n",
    "mse_sklearn = mean_squared_error(y_test, y_pred_sklearn)\n",
    "\n",
    "print(f\"Custom Perceptron Accuracy: {accuracy_custom}, MSE: {mse_custom}\")\n",
    "print(f\"Sklearn Perceptron Accuracy: {accuracy_sklearn}, MSE: {mse_sklearn}\")"
   ]
  },
  {
   "cell_type": "markdown",
   "metadata": {},
   "source": [
    "Here the digits dataset is loaded and then removed of the digit different from 0 and 1. Then the train, test and validation sets are splitted and the model trained."
   ]
  },
  {
   "cell_type": "code",
   "execution_count": 5,
   "metadata": {},
   "outputs": [
    {
     "name": "stdout",
     "output_type": "stream",
     "text": [
      "Validation Accuracy: 0.9824561403508771\n",
      "Test Accuracy: 1.0\n",
      "Validation Accuracy (Sklearn): 0.9649122807017544\n",
      "Test Accuracy (Sklearn): 1.0\n"
     ]
    }
   ],
   "source": [
    "# Load the digits dataset\n",
    "X, y = load_digits(return_X_y=True)\n",
    "#X, y = digits.data, digits.target # type: ignore\n",
    "\n",
    "# Filter out all digits except 0 and 1\n",
    "X = X[(y == 0) | (y == 1)]\n",
    "y = y[(y == 0) | (y == 1)]\n",
    "\n",
    "# Split the data into training, validation, and test sets\n",
    "X_train, X_val, y_train, y_val = train_test_split(X, y, train_size=0.8)\n",
    "X_val, X_test, y_val, y_test = train_test_split(X_val, y_val, train_size=0.8)\n",
    "\n",
    "# Initialize and train the perceptron\n",
    "perceptron = Perceptron(alpha=0.1, epochs=1000)\n",
    "perceptron.fit(X_train, y_train)\n",
    "\n",
    "# Use the validation set to choose the model\n",
    "y_val_pred = perceptron.predict(X_val)\n",
    "print(f\"Validation Accuracy: {accuracy_score(y_val, y_val_pred)}\")\n",
    "\n",
    "# Report the selected model’s accuracy using the testing set\n",
    "y_test_pred = perceptron.predict(X_test)\n",
    "print(f\"Test Accuracy: {accuracy_score(y_test, y_test_pred)}\")\n",
    "\n",
    "# Compare with sklearn’s Perceptron\n",
    "sklearn_perceptron = SklearnPerceptron(alpha=0.01, random_state=0)\n",
    "sklearn_perceptron.fit(X_train, y_train)\n",
    "\n",
    "y_val_pred_sklearn = sklearn_perceptron.predict(X_val)\n",
    "y_test_pred_sklearn = sklearn_perceptron.predict(X_test)\n",
    "\n",
    "print(f\"Validation Accuracy (Sklearn): {accuracy_score(y_val, y_val_pred_sklearn)}\")\n",
    "print(f\"Test Accuracy (Sklearn): {accuracy_score(y_test, y_test_pred_sklearn)}\")"
   ]
  }
 ],
 "metadata": {
  "kernelspec": {
   "display_name": "Python 3",
   "language": "python",
   "name": "python3"
  },
  "language_info": {
   "codemirror_mode": {
    "name": "ipython",
    "version": 3
   },
   "file_extension": ".py",
   "mimetype": "text/x-python",
   "name": "python",
   "nbconvert_exporter": "python",
   "pygments_lexer": "ipython3",
   "version": "3.12.0"
  }
 },
 "nbformat": 4,
 "nbformat_minor": 2
}
